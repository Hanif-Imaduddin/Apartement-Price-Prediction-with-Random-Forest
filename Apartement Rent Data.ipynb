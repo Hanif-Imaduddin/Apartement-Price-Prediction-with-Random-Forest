{
 "cells": [
  {
   "cell_type": "markdown",
   "id": "3c5e4f04-06c5-473b-89d8-e71cca301046",
   "metadata": {},
   "source": [
    "# Apartement Rent Data\n",
    "Dataset source: https://www.kaggle.com/datasets/shashanks1202/apartment-rent-data/data"
   ]
  },
  {
   "cell_type": "code",
   "execution_count": 1,
   "id": "c809425c-bc59-49c0-8d28-18d56fab0f37",
   "metadata": {},
   "outputs": [],
   "source": [
    "import numpy as np\n",
    "import pandas as pd\n",
    "import matplotlib.pyplot as plt\n",
    "import matplotlib_inline.backend_inline\n",
    "matplotlib_inline.backend_inline.set_matplotlib_formats('svg')"
   ]
  },
  {
   "cell_type": "markdown",
   "id": "c485d8d1-fe2f-4754-9de0-6a2bcfffbd02",
   "metadata": {},
   "source": [
    "# Load data"
   ]
  },
  {
   "cell_type": "code",
   "execution_count": 7,
   "id": "52821ce5-ae20-47f8-9022-c0ddc4a1f0bf",
   "metadata": {},
   "outputs": [],
   "source": [
    "df = pd.read_csv('../../Datasets/Apartement Rent Data/apartments_for_rent_classified_100K/apartments_for_rent_classified_100K.csv',\n",
    "                 sep=';',\n",
    "                 encoding='cp1252',\n",
    "                low_memory=False)"
   ]
  },
  {
   "cell_type": "markdown",
   "id": "cdbc7d9c-f928-408b-8e49-578fee2977f8",
   "metadata": {},
   "source": [
    "# Data Preprocessing"
   ]
  },
  {
   "cell_type": "code",
   "execution_count": 9,
   "id": "d8bd9248-9639-401d-9ee9-e2a405b99fc8",
   "metadata": {},
   "outputs": [
    {
     "name": "stdout",
     "output_type": "stream",
     "text": [
      "<class 'pandas.core.frame.DataFrame'>\n",
      "RangeIndex: 99492 entries, 0 to 99491\n",
      "Data columns (total 22 columns):\n",
      " #   Column         Non-Null Count  Dtype  \n",
      "---  ------         --------------  -----  \n",
      " 0   id             99492 non-null  int64  \n",
      " 1   category       99492 non-null  object \n",
      " 2   title          99492 non-null  object \n",
      " 3   body           99492 non-null  object \n",
      " 4   amenities      83448 non-null  object \n",
      " 5   bathrooms      99429 non-null  float64\n",
      " 6   bedrooms       99368 non-null  float64\n",
      " 7   currency       99492 non-null  object \n",
      " 8   fee            99492 non-null  object \n",
      " 9   has_photo      99492 non-null  object \n",
      " 10  pets_allowed   39068 non-null  object \n",
      " 11  price          99491 non-null  float64\n",
      " 12  price_display  99491 non-null  object \n",
      " 13  price_type     99492 non-null  object \n",
      " 14  square_feet    99492 non-null  int64  \n",
      " 15  address        7943 non-null   object \n",
      " 16  cityname       99190 non-null  object \n",
      " 17  state          99190 non-null  object \n",
      " 18  latitude       99467 non-null  float64\n",
      " 19  longitude      99467 non-null  float64\n",
      " 20  source         99492 non-null  object \n",
      " 21  time           99492 non-null  int64  \n",
      "dtypes: float64(5), int64(3), object(14)\n",
      "memory usage: 16.7+ MB\n"
     ]
    }
   ],
   "source": [
    "df.info()"
   ]
  },
  {
   "cell_type": "code",
   "execution_count": 13,
   "id": "c58a02f0-4e4e-4c33-a1fe-e987809038f6",
   "metadata": {},
   "outputs": [
    {
     "data": {
      "text/html": [
       "<div>\n",
       "<style scoped>\n",
       "    .dataframe tbody tr th:only-of-type {\n",
       "        vertical-align: middle;\n",
       "    }\n",
       "\n",
       "    .dataframe tbody tr th {\n",
       "        vertical-align: top;\n",
       "    }\n",
       "\n",
       "    .dataframe thead th {\n",
       "        text-align: right;\n",
       "    }\n",
       "</style>\n",
       "<table border=\"1\" class=\"dataframe\">\n",
       "  <thead>\n",
       "    <tr style=\"text-align: right;\">\n",
       "      <th></th>\n",
       "      <th>id</th>\n",
       "      <th>category</th>\n",
       "      <th>title</th>\n",
       "      <th>body</th>\n",
       "      <th>amenities</th>\n",
       "      <th>bathrooms</th>\n",
       "      <th>bedrooms</th>\n",
       "      <th>currency</th>\n",
       "      <th>fee</th>\n",
       "      <th>has_photo</th>\n",
       "      <th>...</th>\n",
       "      <th>price_display</th>\n",
       "      <th>price_type</th>\n",
       "      <th>square_feet</th>\n",
       "      <th>address</th>\n",
       "      <th>cityname</th>\n",
       "      <th>state</th>\n",
       "      <th>latitude</th>\n",
       "      <th>longitude</th>\n",
       "      <th>source</th>\n",
       "      <th>time</th>\n",
       "    </tr>\n",
       "  </thead>\n",
       "  <tbody>\n",
       "    <tr>\n",
       "      <th>0</th>\n",
       "      <td>5668640009</td>\n",
       "      <td>housing/rent/apartment</td>\n",
       "      <td>One BR 507 &amp; 509 Esplanade</td>\n",
       "      <td>This unit is located at 507 &amp; 509 Esplanade, R...</td>\n",
       "      <td>NaN</td>\n",
       "      <td>1.0</td>\n",
       "      <td>1.0</td>\n",
       "      <td>USD</td>\n",
       "      <td>No</td>\n",
       "      <td>Thumbnail</td>\n",
       "      <td>...</td>\n",
       "      <td>$2,195</td>\n",
       "      <td>Monthly</td>\n",
       "      <td>542</td>\n",
       "      <td>507  509 Esplanade</td>\n",
       "      <td>Redondo Beach</td>\n",
       "      <td>CA</td>\n",
       "      <td>33.8520</td>\n",
       "      <td>-118.3759</td>\n",
       "      <td>RentLingo</td>\n",
       "      <td>1577360355</td>\n",
       "    </tr>\n",
       "    <tr>\n",
       "      <th>1</th>\n",
       "      <td>5668639818</td>\n",
       "      <td>housing/rent/apartment</td>\n",
       "      <td>Three BR 146 Lochview Drive</td>\n",
       "      <td>This unit is located at 146 Lochview Drive, Ne...</td>\n",
       "      <td>NaN</td>\n",
       "      <td>1.5</td>\n",
       "      <td>3.0</td>\n",
       "      <td>USD</td>\n",
       "      <td>No</td>\n",
       "      <td>Thumbnail</td>\n",
       "      <td>...</td>\n",
       "      <td>$1,250</td>\n",
       "      <td>Monthly</td>\n",
       "      <td>1500</td>\n",
       "      <td>146 Lochview Dr</td>\n",
       "      <td>Newport News</td>\n",
       "      <td>VA</td>\n",
       "      <td>37.0867</td>\n",
       "      <td>-76.4941</td>\n",
       "      <td>RentLingo</td>\n",
       "      <td>1577360340</td>\n",
       "    </tr>\n",
       "    <tr>\n",
       "      <th>2</th>\n",
       "      <td>5668639686</td>\n",
       "      <td>housing/rent/apartment</td>\n",
       "      <td>Three BR 3101 Morningside Drive</td>\n",
       "      <td>This unit is located at 3101 Morningside Drive...</td>\n",
       "      <td>NaN</td>\n",
       "      <td>2.0</td>\n",
       "      <td>3.0</td>\n",
       "      <td>USD</td>\n",
       "      <td>No</td>\n",
       "      <td>Thumbnail</td>\n",
       "      <td>...</td>\n",
       "      <td>$1,395</td>\n",
       "      <td>Monthly</td>\n",
       "      <td>1650</td>\n",
       "      <td>3101 Morningside Dr</td>\n",
       "      <td>Raleigh</td>\n",
       "      <td>NC</td>\n",
       "      <td>35.8230</td>\n",
       "      <td>-78.6438</td>\n",
       "      <td>RentLingo</td>\n",
       "      <td>1577360332</td>\n",
       "    </tr>\n",
       "    <tr>\n",
       "      <th>3</th>\n",
       "      <td>5668639659</td>\n",
       "      <td>housing/rent/apartment</td>\n",
       "      <td>Two BR 209 Aegean Way</td>\n",
       "      <td>This unit is located at 209 Aegean Way, Vacavi...</td>\n",
       "      <td>NaN</td>\n",
       "      <td>1.0</td>\n",
       "      <td>2.0</td>\n",
       "      <td>USD</td>\n",
       "      <td>No</td>\n",
       "      <td>Thumbnail</td>\n",
       "      <td>...</td>\n",
       "      <td>$1,600</td>\n",
       "      <td>Monthly</td>\n",
       "      <td>820</td>\n",
       "      <td>209 Aegean Way</td>\n",
       "      <td>Vacaville</td>\n",
       "      <td>CA</td>\n",
       "      <td>38.3622</td>\n",
       "      <td>-121.9712</td>\n",
       "      <td>RentLingo</td>\n",
       "      <td>1577360330</td>\n",
       "    </tr>\n",
       "    <tr>\n",
       "      <th>4</th>\n",
       "      <td>5668639374</td>\n",
       "      <td>housing/rent/apartment</td>\n",
       "      <td>One BR 4805 Marquette NE</td>\n",
       "      <td>This unit is located at 4805 Marquette NE, Alb...</td>\n",
       "      <td>NaN</td>\n",
       "      <td>1.0</td>\n",
       "      <td>1.0</td>\n",
       "      <td>USD</td>\n",
       "      <td>No</td>\n",
       "      <td>Thumbnail</td>\n",
       "      <td>...</td>\n",
       "      <td>$975</td>\n",
       "      <td>Monthly</td>\n",
       "      <td>624</td>\n",
       "      <td>4805 Marquette NE</td>\n",
       "      <td>Albuquerque</td>\n",
       "      <td>NM</td>\n",
       "      <td>35.1038</td>\n",
       "      <td>-106.6110</td>\n",
       "      <td>RentLingo</td>\n",
       "      <td>1577360308</td>\n",
       "    </tr>\n",
       "  </tbody>\n",
       "</table>\n",
       "<p>5 rows × 22 columns</p>\n",
       "</div>"
      ],
      "text/plain": [
       "           id                category                            title  \\\n",
       "0  5668640009  housing/rent/apartment       One BR 507 & 509 Esplanade   \n",
       "1  5668639818  housing/rent/apartment      Three BR 146 Lochview Drive   \n",
       "2  5668639686  housing/rent/apartment  Three BR 3101 Morningside Drive   \n",
       "3  5668639659  housing/rent/apartment            Two BR 209 Aegean Way   \n",
       "4  5668639374  housing/rent/apartment         One BR 4805 Marquette NE   \n",
       "\n",
       "                                                body amenities  bathrooms  \\\n",
       "0  This unit is located at 507 & 509 Esplanade, R...       NaN        1.0   \n",
       "1  This unit is located at 146 Lochview Drive, Ne...       NaN        1.5   \n",
       "2  This unit is located at 3101 Morningside Drive...       NaN        2.0   \n",
       "3  This unit is located at 209 Aegean Way, Vacavi...       NaN        1.0   \n",
       "4  This unit is located at 4805 Marquette NE, Alb...       NaN        1.0   \n",
       "\n",
       "   bedrooms currency fee  has_photo  ... price_display  price_type  \\\n",
       "0       1.0      USD  No  Thumbnail  ...        $2,195     Monthly   \n",
       "1       3.0      USD  No  Thumbnail  ...        $1,250     Monthly   \n",
       "2       3.0      USD  No  Thumbnail  ...        $1,395     Monthly   \n",
       "3       2.0      USD  No  Thumbnail  ...        $1,600     Monthly   \n",
       "4       1.0      USD  No  Thumbnail  ...          $975     Monthly   \n",
       "\n",
       "  square_feet              address       cityname state latitude longitude  \\\n",
       "0         542   507  509 Esplanade  Redondo Beach    CA  33.8520 -118.3759   \n",
       "1        1500      146 Lochview Dr   Newport News    VA  37.0867  -76.4941   \n",
       "2        1650  3101 Morningside Dr        Raleigh    NC  35.8230  -78.6438   \n",
       "3         820       209 Aegean Way      Vacaville    CA  38.3622 -121.9712   \n",
       "4         624    4805 Marquette NE    Albuquerque    NM  35.1038 -106.6110   \n",
       "\n",
       "      source        time  \n",
       "0  RentLingo  1577360355  \n",
       "1  RentLingo  1577360340  \n",
       "2  RentLingo  1577360332  \n",
       "3  RentLingo  1577360330  \n",
       "4  RentLingo  1577360308  \n",
       "\n",
       "[5 rows x 22 columns]"
      ]
     },
     "execution_count": 13,
     "metadata": {},
     "output_type": "execute_result"
    }
   ],
   "source": [
    "df.head(5)"
   ]
  },
  {
   "cell_type": "markdown",
   "id": "a053702a-6447-4bed-afbc-f29706751ab3",
   "metadata": {},
   "source": [
    "## Category"
   ]
  },
  {
   "cell_type": "code",
   "execution_count": 18,
   "id": "030daa77-eb89-49dd-9f4f-12a79b453a50",
   "metadata": {},
   "outputs": [],
   "source": [
    "unique_categories = df.category.unique()"
   ]
  },
  {
   "cell_type": "code",
   "execution_count": 19,
   "id": "4135e143-15bd-4689-a661-77935e1749e8",
   "metadata": {},
   "outputs": [],
   "source": [
    "all_categories = []\n",
    "for categories in unique_categories:\n",
    "    categories = categories.split('/')\n",
    "    for c in categories:\n",
    "        all_categories.append(c)"
   ]
  },
  {
   "cell_type": "code",
   "execution_count": 20,
   "id": "a8c501f4-3fb0-45a8-bc5e-ddae38e6a8d0",
   "metadata": {},
   "outputs": [],
   "source": [
    "unique_categories = list(set(all_categories))"
   ]
  },
  {
   "cell_type": "code",
   "execution_count": 21,
   "id": "a3b829b0-9bb8-4f42-b6d9-1cf958c82be3",
   "metadata": {},
   "outputs": [
    {
     "data": {
      "text/plain": [
       "['commercial',\n",
       " 'home',\n",
       " 'rent',\n",
       " 'apartment',\n",
       " 'other',\n",
       " 'housing',\n",
       " 'retail',\n",
       " 'condo',\n",
       " 'short_term']"
      ]
     },
     "execution_count": 21,
     "metadata": {},
     "output_type": "execute_result"
    }
   ],
   "source": [
    "unique_categories"
   ]
  },
  {
   "cell_type": "code",
   "execution_count": 22,
   "id": "3a689c15-ae23-4809-b37f-de7ef35c29fe",
   "metadata": {},
   "outputs": [],
   "source": [
    "for i in unique_categories:\n",
    "    df[f'cat_{i}'] = df.category.apply(lambda x : 1 if i in x else 0)"
   ]
  },
  {
   "cell_type": "code",
   "execution_count": 29,
   "id": "55f9a7d4-0e85-4bf0-801a-2727b67a63ef",
   "metadata": {},
   "outputs": [],
   "source": [
    "df.drop('category',axis=1,inplace=True)"
   ]
  },
  {
   "cell_type": "markdown",
   "id": "f8303eb2-6075-446a-9840-6d670c9f0330",
   "metadata": {},
   "source": [
    "## Amenities"
   ]
  },
  {
   "cell_type": "code",
   "execution_count": 46,
   "id": "f754235c-5236-4815-8d9c-7b38e4d306c9",
   "metadata": {},
   "outputs": [],
   "source": [
    "df.amenities.fillna('Missing',inplace=True)"
   ]
  },
  {
   "cell_type": "code",
   "execution_count": 47,
   "id": "be97f037-b837-4042-8b21-9e49059edfdd",
   "metadata": {},
   "outputs": [],
   "source": [
    "unique_amenities = df.amenities.unique()"
   ]
  },
  {
   "cell_type": "code",
   "execution_count": 48,
   "id": "fde1ac76-f808-4a16-8351-f25577cf4692",
   "metadata": {},
   "outputs": [
    {
     "data": {
      "text/plain": [
       "array(['Missing', 'Fireplace,Gym,Parking,Pool,Storage,Wood Floors',\n",
       "       'Gated,Pool', ..., 'Dishwasher,Doorman',\n",
       "       'AC,Elevator,Parking,Patio/Deck,Pool,Washer Dryer',\n",
       "       'Dishwasher,Doorman,Patio/Deck,Refrigerator,Storage,Washer Dryer,Wood Floors'],\n",
       "      dtype=object)"
      ]
     },
     "execution_count": 48,
     "metadata": {},
     "output_type": "execute_result"
    }
   ],
   "source": [
    "unique_amenities"
   ]
  },
  {
   "cell_type": "code",
   "execution_count": 49,
   "id": "699c86f6-b90e-4995-8cf4-bcb5a5610244",
   "metadata": {},
   "outputs": [],
   "source": [
    "all_amenities = []\n",
    "for amenities in unique_amenities:\n",
    "    amenities = amenities.split(',')\n",
    "    for a in amenities:\n",
    "        all_amenities.append(a)"
   ]
  },
  {
   "cell_type": "code",
   "execution_count": 50,
   "id": "c0df3ec6-711a-44e8-af34-cee45e0857a7",
   "metadata": {},
   "outputs": [],
   "source": [
    "unique_amenities = list(set(all_amenities))"
   ]
  },
  {
   "cell_type": "code",
   "execution_count": 51,
   "id": "f9350371-3c6a-42b3-93a1-5cb9f00f43ee",
   "metadata": {},
   "outputs": [
    {
     "data": {
      "text/plain": [
       "['Pool',\n",
       " 'Patio/Deck',\n",
       " 'Missing',\n",
       " 'Alarm',\n",
       " 'View',\n",
       " 'Gated',\n",
       " 'Washer Dryer',\n",
       " 'Luxury',\n",
       " 'Doorman',\n",
       " 'Internet Access',\n",
       " 'Golf',\n",
       " 'Basketball',\n",
       " 'Dishwasher',\n",
       " 'Gym',\n",
       " 'Tennis',\n",
       " 'Elevator',\n",
       " 'Hot Tub',\n",
       " 'Wood Floors',\n",
       " 'Fireplace',\n",
       " 'Garbage Disposal',\n",
       " 'AC',\n",
       " 'Cable or Satellite',\n",
       " 'Clubhouse',\n",
       " 'Playground',\n",
       " 'Storage',\n",
       " 'Parking',\n",
       " 'TV',\n",
       " 'Refrigerator']"
      ]
     },
     "execution_count": 51,
     "metadata": {},
     "output_type": "execute_result"
    }
   ],
   "source": [
    "unique_amenities"
   ]
  },
  {
   "cell_type": "code",
   "execution_count": 52,
   "id": "6529d6fb-314d-4fd1-9fba-76700762fa38",
   "metadata": {},
   "outputs": [],
   "source": [
    "for i in unique_amenities:\n",
    "    df[f'ame_{i}'] = df.amenities.apply(lambda x : 1 if i in x else 0)"
   ]
  },
  {
   "cell_type": "code",
   "execution_count": 53,
   "id": "79bc31f7-087c-40f6-941f-dbfa5154dd78",
   "metadata": {},
   "outputs": [
    {
     "name": "stdout",
     "output_type": "stream",
     "text": [
      "<class 'pandas.core.frame.DataFrame'>\n",
      "RangeIndex: 99492 entries, 0 to 99491\n",
      "Data columns (total 58 columns):\n",
      " #   Column                  Non-Null Count  Dtype  \n",
      "---  ------                  --------------  -----  \n",
      " 0   id                      99492 non-null  int64  \n",
      " 1   title                   99492 non-null  object \n",
      " 2   body                    99492 non-null  object \n",
      " 3   amenities               99492 non-null  object \n",
      " 4   bathrooms               99429 non-null  float64\n",
      " 5   bedrooms                99368 non-null  float64\n",
      " 6   currency                99492 non-null  object \n",
      " 7   fee                     99492 non-null  object \n",
      " 8   has_photo               99492 non-null  object \n",
      " 9   pets_allowed            39068 non-null  object \n",
      " 10  price                   99491 non-null  float64\n",
      " 11  price_display           99491 non-null  object \n",
      " 12  price_type              99492 non-null  object \n",
      " 13  square_feet             99492 non-null  int64  \n",
      " 14  address                 7943 non-null   object \n",
      " 15  cityname                99190 non-null  object \n",
      " 16  state                   99190 non-null  object \n",
      " 17  latitude                99467 non-null  float64\n",
      " 18  longitude               99467 non-null  float64\n",
      " 19  source                  99492 non-null  object \n",
      " 20  time                    99492 non-null  int64  \n",
      " 21  cat_commercial          99492 non-null  int64  \n",
      " 22  cat_home                99492 non-null  int64  \n",
      " 23  cat_rent                99492 non-null  int64  \n",
      " 24  cat_apartment           99492 non-null  int64  \n",
      " 25  cat_other               99492 non-null  int64  \n",
      " 26  cat_housing             99492 non-null  int64  \n",
      " 27  cat_retail              99492 non-null  int64  \n",
      " 28  cat_condo               99492 non-null  int64  \n",
      " 29  cat_short_term          99492 non-null  int64  \n",
      " 30  ame_Pool                99492 non-null  int64  \n",
      " 31  ame_Patio/Deck          99492 non-null  int64  \n",
      " 32  ame_Missing             99492 non-null  int64  \n",
      " 33  ame_Alarm               99492 non-null  int64  \n",
      " 34  ame_View                99492 non-null  int64  \n",
      " 35  ame_Gated               99492 non-null  int64  \n",
      " 36  ame_Washer Dryer        99492 non-null  int64  \n",
      " 37  ame_Luxury              99492 non-null  int64  \n",
      " 38  ame_Doorman             99492 non-null  int64  \n",
      " 39  ame_Internet Access     99492 non-null  int64  \n",
      " 40  ame_Golf                99492 non-null  int64  \n",
      " 41  ame_Basketball          99492 non-null  int64  \n",
      " 42  ame_Dishwasher          99492 non-null  int64  \n",
      " 43  ame_Gym                 99492 non-null  int64  \n",
      " 44  ame_Tennis              99492 non-null  int64  \n",
      " 45  ame_Elevator            99492 non-null  int64  \n",
      " 46  ame_Hot Tub             99492 non-null  int64  \n",
      " 47  ame_Wood Floors         99492 non-null  int64  \n",
      " 48  ame_Fireplace           99492 non-null  int64  \n",
      " 49  ame_Garbage Disposal    99492 non-null  int64  \n",
      " 50  ame_AC                  99492 non-null  int64  \n",
      " 51  ame_Cable or Satellite  99492 non-null  int64  \n",
      " 52  ame_Clubhouse           99492 non-null  int64  \n",
      " 53  ame_Playground          99492 non-null  int64  \n",
      " 54  ame_Storage             99492 non-null  int64  \n",
      " 55  ame_Parking             99492 non-null  int64  \n",
      " 56  ame_TV                  99492 non-null  int64  \n",
      " 57  ame_Refrigerator        99492 non-null  int64  \n",
      "dtypes: float64(5), int64(40), object(13)\n",
      "memory usage: 44.0+ MB\n"
     ]
    }
   ],
   "source": [
    "df.info()"
   ]
  },
  {
   "cell_type": "code",
   "execution_count": 62,
   "id": "e09b6414-ef28-4204-a490-5f797ec3cc72",
   "metadata": {},
   "outputs": [],
   "source": [
    "df.drop('amenities',axis=1,inplace=True)"
   ]
  }
 ],
 "metadata": {
  "kernelspec": {
   "display_name": "Python 3 (ipykernel)",
   "language": "python",
   "name": "python3"
  },
  "language_info": {
   "codemirror_mode": {
    "name": "ipython",
    "version": 3
   },
   "file_extension": ".py",
   "mimetype": "text/x-python",
   "name": "python",
   "nbconvert_exporter": "python",
   "pygments_lexer": "ipython3",
   "version": "3.12.3"
  }
 },
 "nbformat": 4,
 "nbformat_minor": 5
}
