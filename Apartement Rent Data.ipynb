{
 "cells": [
  {
   "cell_type": "markdown",
   "id": "3c5e4f04-06c5-473b-89d8-e71cca301046",
   "metadata": {},
   "source": [
    "# Apartement Rent Data\n",
    "Dataset source: https://www.kaggle.com/datasets/shashanks1202/apartment-rent-data/data"
   ]
  },
  {
   "cell_type": "code",
   "execution_count": null,
   "id": "c809425c-bc59-49c0-8d28-18d56fab0f37",
   "metadata": {},
   "outputs": [],
   "source": [
    "import numpy as np\n",
    "import pandas as pd\n",
    "import matplotlib.pyplot as plt\n",
    "import matplotlib_inline.backend_inline\n",
    "matplotlib_inline.backend_inline.set_matplotlib_formats('svg')\n",
    "\n",
    "from sklearn.model_selection import train_test_split\n",
    "\n",
    "import re"
   ]
  },
  {
   "cell_type": "code",
   "execution_count": null,
   "id": "22be68dd-eff4-4e04-8899-768321826fcb",
   "metadata": {},
   "outputs": [],
   "source": [
    "from sklearn.compose import ColumnTransformer\n",
    "from sklearn.impute import SimpleImputer"
   ]
  },
  {
   "cell_type": "markdown",
   "id": "c485d8d1-fe2f-4754-9de0-6a2bcfffbd02",
   "metadata": {},
   "source": [
    "# Load data"
   ]
  },
  {
   "cell_type": "code",
   "execution_count": null,
   "id": "52821ce5-ae20-47f8-9022-c0ddc4a1f0bf",
   "metadata": {},
   "outputs": [],
   "source": [
    "df = pd.read_csv('../../Datasets/Apartement Rent Data/apartments_for_rent_classified_100K/apartments_for_rent_classified_100K.csv',\n",
    "                 sep=';',\n",
    "                 encoding='cp1252',\n",
    "                low_memory=False)"
   ]
  },
  {
   "cell_type": "code",
   "execution_count": null,
   "id": "5b8a5f0b-c316-48ee-b388-6f9b6ceae776",
   "metadata": {},
   "outputs": [],
   "source": [
    "df.drop(['time','price_display'],axis=1,inplace=True)"
   ]
  },
  {
   "cell_type": "code",
   "execution_count": null,
   "id": "69ec95c7-9d0a-493f-89b6-61436dc438ec",
   "metadata": {},
   "outputs": [],
   "source": [
    "df.shape"
   ]
  },
  {
   "cell_type": "code",
   "execution_count": null,
   "id": "762189ec-ae49-4d8e-b80e-38b5aebcfe91",
   "metadata": {},
   "outputs": [],
   "source": [
    "df.dropna(subset=['price'],axis=0,inplace=True)"
   ]
  },
  {
   "cell_type": "code",
   "execution_count": null,
   "id": "93ee25e6-3f1b-471f-9910-8906a5255b03",
   "metadata": {},
   "outputs": [],
   "source": [
    "train,test = train_test_split(df,shuffle=True,test_size=0.1,random_state=42)"
   ]
  },
  {
   "cell_type": "code",
   "execution_count": null,
   "id": "408bb46a-4682-41ea-a88c-08a5a115553b",
   "metadata": {},
   "outputs": [],
   "source": [
    "X_train,X_test,y_train,y_test = train_test_split(train.drop('price',axis=1),\n",
    "                                                 train['price'],\n",
    "                                                shuffle=True,\n",
    "                                                test_size=0.2,\n",
    "                                                random_state=42)"
   ]
  },
  {
   "cell_type": "markdown",
   "id": "cdbc7d9c-f928-408b-8e49-578fee2977f8",
   "metadata": {},
   "source": [
    "# Data Preprocessing"
   ]
  },
  {
   "cell_type": "code",
   "execution_count": null,
   "id": "d8bd9248-9639-401d-9ee9-e2a405b99fc8",
   "metadata": {},
   "outputs": [],
   "source": [
    "train.info()"
   ]
  },
  {
   "cell_type": "markdown",
   "id": "a6467124-f647-46df-b0f4-0f56f9e3c014",
   "metadata": {},
   "source": [
    "## Handling Missing Data"
   ]
  },
  {
   "cell_type": "code",
   "execution_count": null,
   "id": "3dcc4b7d-77b2-40a1-afb7-2db3bd15d9e5",
   "metadata": {},
   "outputs": [],
   "source": [
    "def extract_address(address):\n",
    "    return re.sub(r'^\\d* ','',address)"
   ]
  },
  {
   "cell_type": "code",
   "execution_count": null,
   "id": "b75d411b-d66e-4b90-8289-672f2f936a52",
   "metadata": {},
   "outputs": [],
   "source": [
    "address_dict = X_train.address.dropna().apply(extract_address).value_counts().to_dict()"
   ]
  },
  {
   "cell_type": "code",
   "execution_count": null,
   "id": "616c83a3-7f75-4d87-a776-42ce3fb0ef90",
   "metadata": {},
   "outputs": [],
   "source": [
    "city_dict = (X_train.cityname.dropna().value_counts()-1).to_dict()"
   ]
  },
  {
   "cell_type": "code",
   "execution_count": null,
   "id": "efed09f0-71aa-4512-95e4-2f7c2bfc1e65",
   "metadata": {},
   "outputs": [],
   "source": [
    "na_mean = train.isna().mean()\n",
    "na_cat = na_mean[na_mean > 0]"
   ]
  },
  {
   "cell_type": "code",
   "execution_count": null,
   "id": "ae97f22e-d118-4428-a805-407d868961a3",
   "metadata": {},
   "outputs": [],
   "source": [
    "na_cat"
   ]
  },
  {
   "cell_type": "code",
   "execution_count": null,
   "id": "139bf1f5-4653-40e6-818c-36b0c7fd11b8",
   "metadata": {},
   "outputs": [],
   "source": [
    "X_train.select_dtypes(include='number').hist(bins=100,figsize=(10,10))"
   ]
  },
  {
   "cell_type": "code",
   "execution_count": null,
   "id": "949eb1e2-0384-4527-8b14-7ce3a4dcecd7",
   "metadata": {},
   "outputs": [],
   "source": [
    "feature_numerical = list(set(X_train.select_dtypes(include='number').columns) - {'latitude','longitude','id'})\n",
    "feature_categorical = list(list(X_train.select_dtypes(exclude='number').columns) + ['latitude','longitude'])"
   ]
  },
  {
   "cell_type": "code",
   "execution_count": null,
   "id": "c138660a-2828-446a-98f5-e62f61f4297d",
   "metadata": {},
   "outputs": [],
   "source": [
    "preprocessor = ColumnTransformer(\n",
    "    transformers=(\n",
    "        ('numeric_imputer', SimpleImputer(strategy='median',add_indicator=True),feature_numerical),\n",
    "        ('categorical_imputer',SimpleImputer(strategy='most_frequent',add_indicator=True),feature_categorical)\n",
    "    ),\n",
    "    verbose_feature_names_out=False,\n",
    "    remainder='passthrough'\n",
    ")"
   ]
  },
  {
   "cell_type": "code",
   "execution_count": null,
   "id": "018111fa-3cc4-4e93-9c96-b6cf9075882e",
   "metadata": {},
   "outputs": [],
   "source": [
    "df.select_dtypes(include='number').columns"
   ]
  },
  {
   "cell_type": "code",
   "execution_count": null,
   "id": "ce041f14-469d-4ae0-bfab-b2693f7296e5",
   "metadata": {},
   "outputs": [],
   "source": [
    "feature_categorical"
   ]
  },
  {
   "cell_type": "code",
   "execution_count": null,
   "id": "ad2788f0-7889-45e8-ab9f-00e4e6dc5ac6",
   "metadata": {},
   "outputs": [],
   "source": [
    "preprocessor.set_output(transform='pandas')"
   ]
  },
  {
   "cell_type": "code",
   "execution_count": null,
   "id": "622280f0-5544-4309-9967-0eda73ae8691",
   "metadata": {},
   "outputs": [],
   "source": [
    "preprocessor.fit(X_train)"
   ]
  },
  {
   "cell_type": "code",
   "execution_count": null,
   "id": "3aad945b-c8d1-451c-9b44-13a99452048e",
   "metadata": {},
   "outputs": [],
   "source": [
    "X_train = preprocessor.transform(X_train)\n",
    "X_test = preprocessor.transform(X_test)"
   ]
  },
  {
   "cell_type": "code",
   "execution_count": null,
   "id": "db044f91-27e1-46d4-9d2a-f052319102ce",
   "metadata": {},
   "outputs": [],
   "source": [
    "X_train.shape,X_test.shape"
   ]
  },
  {
   "cell_type": "code",
   "execution_count": null,
   "id": "a9f90e7d-b95a-4e6a-bada-b920551afbf2",
   "metadata": {},
   "outputs": [],
   "source": [
    "X_train.info()"
   ]
  },
  {
   "cell_type": "markdown",
   "id": "9287e642-2ea3-488f-b7cb-51b5362f19d5",
   "metadata": {},
   "source": [
    "## Id"
   ]
  },
  {
   "cell_type": "code",
   "execution_count": null,
   "id": "68522beb-5865-4814-9af4-55a26fe062f0",
   "metadata": {},
   "outputs": [],
   "source": [
    "X_train.drop('id',axis=1,inplace=True)"
   ]
  },
  {
   "cell_type": "code",
   "execution_count": null,
   "id": "b7d6b7da-31df-4041-a713-f2b366bf15c2",
   "metadata": {},
   "outputs": [],
   "source": [
    "X_test.drop('id',axis=1,inplace=True)"
   ]
  },
  {
   "cell_type": "markdown",
   "id": "a053702a-6447-4bed-afbc-f29706751ab3",
   "metadata": {},
   "source": [
    "## Category"
   ]
  },
  {
   "cell_type": "code",
   "execution_count": null,
   "id": "030daa77-eb89-49dd-9f4f-12a79b453a50",
   "metadata": {},
   "outputs": [],
   "source": [
    "unique_categories = df.category.unique()"
   ]
  },
  {
   "cell_type": "code",
   "execution_count": null,
   "id": "4135e143-15bd-4689-a661-77935e1749e8",
   "metadata": {},
   "outputs": [],
   "source": [
    "all_categories = []\n",
    "for categories in unique_categories:\n",
    "    categories = categories.split('/')\n",
    "    for c in categories:\n",
    "        all_categories.append(c)"
   ]
  },
  {
   "cell_type": "code",
   "execution_count": null,
   "id": "4c3281e3-061e-47ec-953a-2cc879f967f8",
   "metadata": {},
   "outputs": [],
   "source": [
    "all_categories"
   ]
  },
  {
   "cell_type": "code",
   "execution_count": null,
   "id": "a8c501f4-3fb0-45a8-bc5e-ddae38e6a8d0",
   "metadata": {},
   "outputs": [],
   "source": [
    "unique_categories = list(set(all_categories))"
   ]
  },
  {
   "cell_type": "code",
   "execution_count": null,
   "id": "a3b829b0-9bb8-4f42-b6d9-1cf958c82be3",
   "metadata": {},
   "outputs": [],
   "source": [
    "unique_categories"
   ]
  },
  {
   "cell_type": "code",
   "execution_count": null,
   "id": "5bf700f5-eb90-43c1-aa62-d8ab19958e37",
   "metadata": {},
   "outputs": [],
   "source": [
    "def encode_category(df):\n",
    "    for i in unique_categories:\n",
    "        df[f'cat_{i}'] = df.category.apply(lambda x : 1 if i in x else 0)\n",
    "    df.drop('category',axis=1,inplace=True)\n",
    "    return df"
   ]
  },
  {
   "cell_type": "code",
   "execution_count": null,
   "id": "3a689c15-ae23-4809-b37f-de7ef35c29fe",
   "metadata": {},
   "outputs": [],
   "source": [
    "X_train = encode_category(X_train)"
   ]
  },
  {
   "cell_type": "code",
   "execution_count": null,
   "id": "bd16dce3-16e3-4fb6-bfdd-942f396bdfc8",
   "metadata": {},
   "outputs": [],
   "source": [
    "X_test = encode_category(X_test)"
   ]
  },
  {
   "cell_type": "code",
   "execution_count": null,
   "id": "55f9a7d4-0e85-4bf0-801a-2727b67a63ef",
   "metadata": {},
   "outputs": [],
   "source": [
    "X_train.info()"
   ]
  },
  {
   "cell_type": "markdown",
   "id": "f8303eb2-6075-446a-9840-6d670c9f0330",
   "metadata": {},
   "source": [
    "## Amenities"
   ]
  },
  {
   "cell_type": "code",
   "execution_count": null,
   "id": "be97f037-b837-4042-8b21-9e49059edfdd",
   "metadata": {},
   "outputs": [],
   "source": [
    "unique_amenities = X_train.amenities.unique()"
   ]
  },
  {
   "cell_type": "code",
   "execution_count": null,
   "id": "fde1ac76-f808-4a16-8351-f25577cf4692",
   "metadata": {},
   "outputs": [],
   "source": [
    "unique_amenities"
   ]
  },
  {
   "cell_type": "code",
   "execution_count": null,
   "id": "699c86f6-b90e-4995-8cf4-bcb5a5610244",
   "metadata": {},
   "outputs": [],
   "source": [
    "all_amenities = []\n",
    "for amenities in unique_amenities:\n",
    "    amenities = amenities.split(',')\n",
    "    for a in amenities:\n",
    "        all_amenities.append(a)"
   ]
  },
  {
   "cell_type": "code",
   "execution_count": null,
   "id": "c0df3ec6-711a-44e8-af34-cee45e0857a7",
   "metadata": {},
   "outputs": [],
   "source": [
    "unique_amenities = list(set(all_amenities))"
   ]
  },
  {
   "cell_type": "code",
   "execution_count": null,
   "id": "f9350371-3c6a-42b3-93a1-5cb9f00f43ee",
   "metadata": {},
   "outputs": [],
   "source": [
    "unique_amenities"
   ]
  },
  {
   "cell_type": "code",
   "execution_count": null,
   "id": "fcb3ea43-d0f3-41f5-b5bb-5da94d52b845",
   "metadata": {},
   "outputs": [],
   "source": [
    "def encode_amenities(df):\n",
    "    for i in unique_amenities:\n",
    "        df[f'ame_{i}'] = df.amenities.apply(lambda x : 1 if i in x else 0)\n",
    "    df.drop('amenities',axis=1,inplace=True)\n",
    "    return df"
   ]
  },
  {
   "cell_type": "code",
   "execution_count": null,
   "id": "6529d6fb-314d-4fd1-9fba-76700762fa38",
   "metadata": {},
   "outputs": [],
   "source": [
    "X_train = encode_amenities(X_train)\n",
    "X_test = encode_amenities(X_test)"
   ]
  },
  {
   "cell_type": "code",
   "execution_count": null,
   "id": "79bc31f7-087c-40f6-941f-dbfa5154dd78",
   "metadata": {},
   "outputs": [],
   "source": [
    "X_train.info()"
   ]
  },
  {
   "cell_type": "markdown",
   "id": "3cfe0947-6340-4b48-b05e-1fc3939f49d8",
   "metadata": {},
   "source": [
    "## Bathrooms"
   ]
  },
  {
   "cell_type": "code",
   "execution_count": null,
   "id": "b4e80bb6-c7ee-4629-95c2-da9576d5d800",
   "metadata": {},
   "outputs": [],
   "source": [
    "X_train.bathrooms.head(5)"
   ]
  },
  {
   "cell_type": "code",
   "execution_count": null,
   "id": "42852fbe-51e6-424d-b283-54d062603d95",
   "metadata": {},
   "outputs": [],
   "source": [
    "X_train.bathrooms = X_train.bathrooms.astype(int)\n",
    "X_test.bathrooms = X_test.bathrooms.astype(int)"
   ]
  },
  {
   "cell_type": "markdown",
   "id": "bdffcc1d-52a9-4211-b6ba-1094e776e9ab",
   "metadata": {},
   "source": [
    "## Bedrooms"
   ]
  },
  {
   "cell_type": "code",
   "execution_count": null,
   "id": "db52d1c3-188f-472b-bbec-7a45cdeb2e38",
   "metadata": {},
   "outputs": [],
   "source": [
    "X_train.bedrooms.head(5)"
   ]
  },
  {
   "cell_type": "code",
   "execution_count": null,
   "id": "7b434933-cd02-44d7-afed-857f94f7a893",
   "metadata": {},
   "outputs": [],
   "source": [
    "X_train.bedrooms = X_train.bedrooms.astype(int)\n",
    "X_test.bedrooms = X_test.bedrooms.astype(int)"
   ]
  },
  {
   "cell_type": "markdown",
   "id": "1f7e015d-46d5-4e3d-8824-faf0be08a031",
   "metadata": {},
   "source": [
    "## Currency"
   ]
  },
  {
   "cell_type": "code",
   "execution_count": null,
   "id": "9aa97b37-de25-47d5-8dca-42275e7aaee1",
   "metadata": {},
   "outputs": [],
   "source": [
    "X_train.currency.head(5)"
   ]
  },
  {
   "cell_type": "code",
   "execution_count": null,
   "id": "9494e767-bd4b-4449-99d6-94f8f8dd9f34",
   "metadata": {},
   "outputs": [],
   "source": [
    "X_train.currency.unique()"
   ]
  },
  {
   "cell_type": "code",
   "execution_count": null,
   "id": "8d9f7b4e-79da-4e6a-a4d3-10f3c4c8f59e",
   "metadata": {},
   "outputs": [],
   "source": [
    "X_test.currency.unique()"
   ]
  },
  {
   "cell_type": "code",
   "execution_count": null,
   "id": "cb93ce3b-3b07-4cf2-869e-1b86e9a71f27",
   "metadata": {},
   "outputs": [],
   "source": [
    "X_train.drop('currency',axis=1,inplace=True)\n",
    "X_test.drop('currency',axis=1,inplace=True)"
   ]
  },
  {
   "cell_type": "markdown",
   "id": "8603f420-8439-42f5-8419-fedf9ed4e3fc",
   "metadata": {},
   "source": [
    "## Fee"
   ]
  },
  {
   "cell_type": "code",
   "execution_count": null,
   "id": "a63ee717-dd1c-4691-80af-ad6eefd57ce7",
   "metadata": {},
   "outputs": [],
   "source": [
    "X_train.fee.head(5)"
   ]
  },
  {
   "cell_type": "code",
   "execution_count": null,
   "id": "6d725931-f6c0-4ec5-b11a-e4a0d42ea8d6",
   "metadata": {},
   "outputs": [],
   "source": [
    "X_train.fee.unique()"
   ]
  },
  {
   "cell_type": "code",
   "execution_count": null,
   "id": "bef3bad5-e9d7-4e8c-8903-18df2c78a49e",
   "metadata": {},
   "outputs": [],
   "source": [
    "X_train.fee = X_train.fee.map({'No':0,'Yes':1})\n",
    "X_test.fee = X_test.fee.map({'No':0,'Yes':1})"
   ]
  },
  {
   "cell_type": "code",
   "execution_count": null,
   "id": "97620ce4-8750-4dcd-8b38-0e5e6d86fa6d",
   "metadata": {},
   "outputs": [],
   "source": [
    "X_train.fee.unique()"
   ]
  },
  {
   "cell_type": "markdown",
   "id": "509f74bd-1829-4515-9351-14c49f5066b8",
   "metadata": {},
   "source": [
    "## Has Photo"
   ]
  },
  {
   "cell_type": "code",
   "execution_count": null,
   "id": "5daf2909-a461-40c7-84bd-bcb8437efd93",
   "metadata": {},
   "outputs": [],
   "source": [
    "X_train.has_photo.unique()"
   ]
  },
  {
   "cell_type": "code",
   "execution_count": null,
   "id": "9a79161c-0b24-4fd1-b952-a8435c89716e",
   "metadata": {},
   "outputs": [],
   "source": [
    "def encode_has_photo(df):\n",
    "    for i in df.has_photo.unique():\n",
    "        df[f'has_photo_{i}'] = df.has_photo.apply(lambda x: 1 if i in x else 0)\n",
    "    df.drop('has_photo',axis=1,inplace=True)\n",
    "    return df"
   ]
  },
  {
   "cell_type": "code",
   "execution_count": null,
   "id": "84deef1c-51cd-483f-af77-24f1ce157060",
   "metadata": {},
   "outputs": [],
   "source": [
    "X_train = encode_has_photo(X_train)"
   ]
  },
  {
   "cell_type": "code",
   "execution_count": null,
   "id": "7e4ef65c-b40b-48a4-8d72-42afb2864c37",
   "metadata": {},
   "outputs": [],
   "source": [
    "X_test = encode_has_photo(X_test)"
   ]
  },
  {
   "cell_type": "markdown",
   "id": "0edb83d8-8fed-4dac-8426-4028c3dd4784",
   "metadata": {},
   "source": [
    "## pets_allowed"
   ]
  },
  {
   "cell_type": "code",
   "execution_count": null,
   "id": "478e906a-5046-45d1-9ab8-3d1920ec26c6",
   "metadata": {},
   "outputs": [],
   "source": [
    "X_train.pets_allowed.unique()"
   ]
  },
  {
   "cell_type": "code",
   "execution_count": null,
   "id": "8fab45bf-ecc0-448e-877b-03b8079b019b",
   "metadata": {},
   "outputs": [],
   "source": [
    "pets_allowed_unique = ['Cats','Dogs']"
   ]
  },
  {
   "cell_type": "code",
   "execution_count": null,
   "id": "791f396b-fdf6-44c7-b588-b20da9fb2a7c",
   "metadata": {},
   "outputs": [],
   "source": [
    "def encode_pets_allowed(df):\n",
    "    for i in pets_allowed_unique:\n",
    "        df[f'pets_allowed_{i}'] = df['pets_allowed'].apply(lambda x:1 if i in x else 0)\n",
    "    df.drop('pets_allowed',axis=1,inplace=True)\n",
    "    return df"
   ]
  },
  {
   "cell_type": "code",
   "execution_count": null,
   "id": "8eec4614-6552-4ab0-ba27-4b4c250f6876",
   "metadata": {},
   "outputs": [],
   "source": [
    "X_train = encode_pets_allowed(X_train)\n",
    "X_test = encode_pets_allowed(X_test)"
   ]
  },
  {
   "cell_type": "code",
   "execution_count": null,
   "id": "b204fd72-31e1-433d-b9ee-36fc8e64c98b",
   "metadata": {},
   "outputs": [],
   "source": [
    "X_train.info()"
   ]
  },
  {
   "cell_type": "code",
   "execution_count": null,
   "id": "c67c2d54-9d59-4195-8920-ed8a5828cbc5",
   "metadata": {},
   "outputs": [],
   "source": [
    "X_train.pets_allowed_Cats.sum(),X_train.pets_allowed_Dogs.sum()"
   ]
  },
  {
   "cell_type": "markdown",
   "id": "af040138-e589-45b2-8a78-51869ced743a",
   "metadata": {},
   "source": [
    "## Price Type"
   ]
  },
  {
   "cell_type": "code",
   "execution_count": null,
   "id": "92cb72ce-3c3e-4114-84ad-4ef9da1f65fd",
   "metadata": {},
   "outputs": [],
   "source": [
    "X_train.price_type.unique()"
   ]
  },
  {
   "cell_type": "code",
   "execution_count": null,
   "id": "0cdf5590-f0c1-4a8a-8bbe-e859751ed702",
   "metadata": {},
   "outputs": [],
   "source": [
    "price_type_unique = ['Monthly','Weekly']"
   ]
  },
  {
   "cell_type": "code",
   "execution_count": null,
   "id": "dd39e544-4273-40b5-89e1-9866f061d333",
   "metadata": {},
   "outputs": [],
   "source": [
    "def encode_price_type(df):\n",
    "    for pt in price_type_unique:\n",
    "        df[f'pt_{pt}'] = df.price_type.apply(lambda x: 1 if pt in x else 0)\n",
    "    df.drop('price_type',axis=1,inplace=True)\n",
    "    return df"
   ]
  },
  {
   "cell_type": "code",
   "execution_count": null,
   "id": "67d30c23-adc2-40c3-ad9a-8898e40d240d",
   "metadata": {},
   "outputs": [],
   "source": [
    "X_train = encode_price_type(X_train)\n",
    "X_test = encode_price_type(X_test)"
   ]
  },
  {
   "cell_type": "code",
   "execution_count": null,
   "id": "b963880c-7467-4c4f-a519-83a708305efe",
   "metadata": {},
   "outputs": [],
   "source": [
    "X_train[['pt_Monthly','pt_Weekly']].sum()"
   ]
  },
  {
   "cell_type": "code",
   "execution_count": null,
   "id": "91b86a29-d9da-44e2-bc0c-0a9e0706712d",
   "metadata": {},
   "outputs": [],
   "source": [
    "# drop?"
   ]
  },
  {
   "cell_type": "markdown",
   "id": "07c7f873-63cd-4605-9270-a7c4c7ca78ee",
   "metadata": {},
   "source": [
    "## Address"
   ]
  },
  {
   "cell_type": "code",
   "execution_count": null,
   "id": "10e580bc-8ac1-40ae-bb3c-2f5c9f96f03b",
   "metadata": {},
   "outputs": [],
   "source": [
    "address_dict"
   ]
  },
  {
   "cell_type": "code",
   "execution_count": null,
   "id": "7d7b67ae-1852-4bca-9e17-86ebe4bb74e5",
   "metadata": {},
   "outputs": [],
   "source": [
    "def encode_address(df):\n",
    "    df['address_encoded'] = df.address.apply(lambda x: address_dict.get(x,0))\n",
    "    df.drop('address',axis=1,inplace=True)\n",
    "    return df"
   ]
  },
  {
   "cell_type": "code",
   "execution_count": null,
   "id": "fa5d32b6-fe55-482e-afa1-d47b2c2605de",
   "metadata": {},
   "outputs": [],
   "source": [
    "X_train =  encode_address(X_train)\n",
    "X_test = encode_address(X_test)"
   ]
  },
  {
   "cell_type": "code",
   "execution_count": null,
   "id": "32a6845a-8185-4eea-ad8c-81096235c8ba",
   "metadata": {},
   "outputs": [],
   "source": [
    "sample = '8215 S.W 72nd Avenue' "
   ]
  },
  {
   "cell_type": "code",
   "execution_count": null,
   "id": "6281a337-0f4e-4b8c-b93b-40736cc57d1a",
   "metadata": {},
   "outputs": [],
   "source": [
    "re.findall(r'^\\d*',sample)[0]"
   ]
  },
  {
   "cell_type": "code",
   "execution_count": null,
   "id": "ab8b0cdb-1a16-449f-bf0d-845856d317b6",
   "metadata": {},
   "outputs": [],
   "source": [
    "re.sub(r'^\\d* ','',sample)"
   ]
  },
  {
   "cell_type": "code",
   "execution_count": null,
   "id": "9eea05e9-4097-41f9-9d73-413326b7224c",
   "metadata": {
    "scrolled": true
   },
   "outputs": [],
   "source": [
    "X_test.shape[0] - (X_test.address_encoded == 0).sum()"
   ]
  },
  {
   "cell_type": "code",
   "execution_count": null,
   "id": "0a9adb0d-4f02-4427-acc9-98bc4b39e7b7",
   "metadata": {},
   "outputs": [],
   "source": [
    "X_train.drop('address_encoded',axis=1,inplace=True)\n",
    "X_test.drop('address_encoded',axis=1,inplace=True)"
   ]
  },
  {
   "cell_type": "markdown",
   "id": "214e5644-ad30-4a19-8855-69c2e34f4552",
   "metadata": {},
   "source": [
    "## City Name"
   ]
  },
  {
   "cell_type": "code",
   "execution_count": null,
   "id": "cc4fcaf3-4ded-4092-85f6-449552c61aa8",
   "metadata": {},
   "outputs": [],
   "source": [
    "(X_train.cityname.value_counts() == 1).sum()"
   ]
  },
  {
   "cell_type": "code",
   "execution_count": null,
   "id": "a7c4edb3-8d70-42b0-bf50-2934a5e94173",
   "metadata": {},
   "outputs": [],
   "source": [
    "city_dict"
   ]
  },
  {
   "cell_type": "code",
   "execution_count": null,
   "id": "59fd0e91-a11e-4268-9c8f-3893f1f74177",
   "metadata": {},
   "outputs": [],
   "source": [
    "def encode_cityname(df):\n",
    "    df['cityname_encoded'] = df['cityname'].apply(lambda x: city_dict.get(x,0))\n",
    "    df.drop('cityname',axis=1,inplace=True)\n",
    "    return df"
   ]
  },
  {
   "cell_type": "code",
   "execution_count": null,
   "id": "11598d9f-132d-4285-afda-0ac34c1e59d7",
   "metadata": {},
   "outputs": [],
   "source": [
    "X_train = encode_cityname(X_train)\n",
    "X_test = encode_cityname(X_test)"
   ]
  },
  {
   "cell_type": "code",
   "execution_count": null,
   "id": "4729ae66-afd0-411d-ae49-5053d1e6f2ff",
   "metadata": {},
   "outputs": [],
   "source": [
    "X_test.cityname_encoded.value_counts()"
   ]
  },
  {
   "cell_type": "markdown",
   "id": "1bc2bfd6-6d82-4e6a-b442-e2305cf4697d",
   "metadata": {},
   "source": [
    "## State"
   ]
  },
  {
   "cell_type": "code",
   "execution_count": null,
   "id": "6703117d-ac7a-485c-a539-80da111400a6",
   "metadata": {},
   "outputs": [],
   "source": [
    "(X_train.state.value_counts() == 1).sum()"
   ]
  },
  {
   "cell_type": "code",
   "execution_count": null,
   "id": "9c5a25a3-e296-46b7-8090-fc4fd16df379",
   "metadata": {},
   "outputs": [],
   "source": [
    "state_unique = X_train.state.unique()"
   ]
  },
  {
   "cell_type": "code",
   "execution_count": null,
   "id": "10c0811e-d176-4755-802b-457cebe8b8b1",
   "metadata": {},
   "outputs": [],
   "source": [
    "def encode_state(df):\n",
    "    state_cols = {}\n",
    "    for s in state_unique:\n",
    "        state_cols[f'state_{s}'] = df.state.apply(lambda x: 1 if s in x else 0)\n",
    "    df = pd.concat([df,pd.DataFrame(state_cols)],axis=1)\n",
    "    df.drop('state',axis=1,inplace=True)\n",
    "    return df"
   ]
  },
  {
   "cell_type": "code",
   "execution_count": null,
   "id": "a0025ddb-5457-4077-a871-b834ca8f03a7",
   "metadata": {},
   "outputs": [],
   "source": [
    "X_train = encode_state(X_train)\n",
    "X_test = encode_state(X_test)"
   ]
  },
  {
   "cell_type": "code",
   "execution_count": null,
   "id": "c8463045-a61a-4ab4-8bbf-b491329da078",
   "metadata": {},
   "outputs": [],
   "source": [
    "X_train.shape"
   ]
  },
  {
   "cell_type": "markdown",
   "id": "7253d70c-04a0-4842-980a-cf820444605a",
   "metadata": {},
   "source": [
    "## Source"
   ]
  },
  {
   "cell_type": "code",
   "execution_count": null,
   "id": "b0cc771c-2a5d-4bda-bbc1-26607d97d916",
   "metadata": {},
   "outputs": [],
   "source": [
    "source_unique = X_train.source.unique()"
   ]
  },
  {
   "cell_type": "code",
   "execution_count": null,
   "id": "138cc021-61b3-43a7-abd2-98b50cd2f599",
   "metadata": {},
   "outputs": [],
   "source": [
    "def encode_source(df):\n",
    "    source_cols = {}\n",
    "    for s in source_unique:\n",
    "        source_cols[f'source_{s}'] = df.source.apply(lambda x: 1 if s in x else 0)\n",
    "    df = pd.concat([df,pd.DataFrame(source_cols)],axis=1)\n",
    "    df.drop('source',axis=1,inplace=True)\n",
    "    return df"
   ]
  },
  {
   "cell_type": "code",
   "execution_count": null,
   "id": "3b8b084d-c63c-4a7f-89b5-c8441453f55d",
   "metadata": {},
   "outputs": [],
   "source": [
    "X_train = encode_source(X_train)\n",
    "X_test = encode_source(X_test)"
   ]
  },
  {
   "cell_type": "code",
   "execution_count": null,
   "id": "96870274-c8b6-46b6-9e47-9ffad3c63c21",
   "metadata": {},
   "outputs": [],
   "source": [
    "X_train.shape,X_test.shape"
   ]
  },
  {
   "cell_type": "code",
   "execution_count": null,
   "id": "a6205bee-155e-49d4-98a2-64ef306266cd",
   "metadata": {},
   "outputs": [],
   "source": []
  }
 ],
 "metadata": {
  "kernelspec": {
   "display_name": "Python 3 (ipykernel)",
   "language": "python",
   "name": "python3"
  },
  "language_info": {
   "codemirror_mode": {
    "name": "ipython",
    "version": 3
   },
   "file_extension": ".py",
   "mimetype": "text/x-python",
   "name": "python",
   "nbconvert_exporter": "python",
   "pygments_lexer": "ipython3",
   "version": "3.12.4"
  }
 },
 "nbformat": 4,
 "nbformat_minor": 5
}
